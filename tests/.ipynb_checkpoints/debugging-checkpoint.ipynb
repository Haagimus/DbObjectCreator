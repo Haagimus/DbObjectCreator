{
 "cells": [
  {
   "cell_type": "code",
   "execution_count": null,
   "metadata": {
    "tags": []
   },
   "outputs": [
    {
     "name": "stdout",
     "output_type": "stream",
     "text": [
      "Found existing installation: dbobjectcreator 1.1.2\n",
      "Uninstalling dbobjectcreator-1.1.2:\n",
      "  Successfully uninstalled dbobjectcreator-1.1.2\n"
     ]
    }
   ],
   "source": [
    "print('attempting to install DbObjectCreator')\n",
    "try:\n",
    "    from DbObjectCreator import DbObject\n",
    "    print('DbObjectCreator found')\n",
    "except ModuleNotFoundError:\n",
    "    print('DbObjectCreator module not found. installing...')\n",
    "    import os\n",
    "    os.chdir('/home/jovyan/work/DbObjectCreator/dist/')\n",
    "    os.system('pip install DbObjectCreator-1.1.2.tar.gz')"
   ]
  },
  {
   "cell_type": "code",
   "execution_count": null,
   "metadata": {},
   "outputs": [],
   "source": [
    "dh_tables = {\n",
    "    'product': '',\n",
    "    'country': '', \n",
    "    'city': '', \n",
    "    'store': '', \n",
    "    'users': '', \n",
    "    'status_name': '', \n",
    "    'sale': '', \n",
    "    'order_status': ''\n",
    "    }"
   ]
  },
  {
   "cell_type": "code",
   "execution_count": null,
   "metadata": {
    "jupyter": {
     "source_hidden": true
    },
    "tags": []
   },
   "outputs": [],
   "source": [
    "def test_mysql_connection() -> dict:\n",
    "    dh_mysql = DbObject(dbtype=1,\n",
    "        db_host='host.docker.internal',\n",
    "        db_port=3307,\n",
    "        db_user='root',\n",
    "        db_pass='c4J*wKvL3PXmmSQT',\n",
    "        db_name='datahub',\n",
    "    )\n",
    "\n",
    "    dh_mysql.initialize_sa_session()\n",
    "    dh_mysql.initialize_engine()\n",
    "\n",
    "    for table in dh_tables:\n",
    "        dh_tables[table] = [col for col in dh_mysql.reflect_database_table(table).columns]\n",
    "\n",
    "    return dh_tables"
   ]
  },
  {
   "cell_type": "code",
   "execution_count": 15,
   "metadata": {},
   "outputs": [],
   "source": [
    "def test_postgres_connection() -> dict:\n",
    "    dh_postgres = DbObject(dbtype=2,\n",
    "        db_host='host.docker.internal',\n",
    "        db_port=5432, \n",
    "        db_user='datahub', \n",
    "        db_pass='c4J*wKvL3PXmmSQT', \n",
    "        db_name='datahub',\n",
    "        schema='public',\n",
    "    )\n",
    "\n",
    "    dh_postgres.initialize_sa_session()\n",
    "    dh_postgres.initialize_engine()\n",
    "\n",
    "    tables_copy = dh_tables.copy()\n",
    "\n",
    "    for table in tables_copy:\n",
    "        tables_copy[table] = [col for col in dh_postgres.reflect_database_table(table).columns]\n",
    "    \n",
    "    return tables_copy"
   ]
  },
  {
   "cell_type": "code",
   "execution_count": null,
   "metadata": {
    "jupyter": {
     "source_hidden": true
    },
    "tags": []
   },
   "outputs": [],
   "source": [
    "def test_mssql_connection() -> dict:\n",
    "    dh_mysql = DbObject(dbtype=3,\n",
    "        db_host='host.docker.internal',\n",
    "        db_port=3307,\n",
    "        db_user='root',\n",
    "        db_pass='c4J*wKvL3PXmmSQT',\n",
    "        db_name='datahub',\n",
    "    )\n",
    "\n",
    "    dh_mysql.initialize_sa_session()\n",
    "    dh_mysql.initialize_engine()\n",
    "\n",
    "    for table in dh_tables:\n",
    "        dh_tables[table] = [col for col in dh_mysql.reflect_database_table(table).columns]\n",
    "\n",
    "    return dh_tables"
   ]
  },
  {
   "cell_type": "code",
   "execution_count": 17,
   "metadata": {},
   "outputs": [
    {
     "name": "stdout",
     "output_type": "stream",
     "text": [
      "product ['product_id', 'name']\n",
      "country ['country_id', 'country_name']\n",
      "city ['city_id', 'city_name', 'country_id']\n",
      "store ['store_id', 'name', 'city_id']\n",
      "users ['user_id', 'name']\n",
      "status_name ['status_name_id', 'status_name']\n",
      "sale ['sale_id', 'amount', 'date_sale', 'product_id', 'user_id', 'store_id']\n",
      "order_status ['order_status_id', 'update_at', 'sale_id', 'status_name_id']\n"
     ]
    }
   ],
   "source": [
    "for table, columns in test_postgres_connection().items():\n",
    "    print(table, [columns[i].name for i in range(len(columns))], end='\\n')"
   ]
  },
  {
   "cell_type": "code",
   "execution_count": 18,
   "metadata": {},
   "outputs": [
    {
     "name": "stdout",
     "output_type": "stream",
     "text": [
      "product ['product_id', 'name']\n",
      "country ['country_id', 'country_name']\n",
      "city ['city_id', 'city_name', 'country_id']\n",
      "store ['store_id', 'name', 'city_id']\n",
      "users ['user_id', 'name']\n",
      "status_name ['status_name_id', 'status_name']\n",
      "sale ['sale_id', 'amount', 'date_sale', 'product_id', 'user_id', 'store_id']\n",
      "order_status ['order_status_id', 'update_at', 'sale_id', 'status_name_id']\n"
     ]
    }
   ],
   "source": [
    "for table, columns in test_mysql_connection().items():\n",
    "    print(table, [columns[i].name for i in range(len(columns))], end='\\n')"
   ]
  },
  {
   "cell_type": "code",
   "execution_count": 2,
   "metadata": {},
   "outputs": [
    {
     "name": "stdout",
     "output_type": "stream",
     "text": [
      "\u001b[33mWARNING: Requirement '/work/DbObjectCreator/dist/DbObjectCreator-1.1.2.tar.gz' looks like a filename, but the file does not exist\u001b[0m\u001b[33m\n",
      "\u001b[0mProcessing /work/DbObjectCreator/dist/DbObjectCreator-1.1.2.tar.gz\n",
      "\u001b[31mERROR: Could not install packages due to an OSError: [Errno 2] No such file or directory: '/work/DbObjectCreator/dist/DbObjectCreator-1.1.2.tar.gz'\n",
      "\u001b[0m\u001b[31m\n",
      "\u001b[0mNote: you may need to restart the kernel to use updated packages.\n"
     ]
    }
   ],
   "source": []
  }
 ],
 "metadata": {
  "kernelspec": {
   "display_name": "Python 3 (ipykernel)",
   "language": "python",
   "name": "python3"
  },
  "vscode": {
   "interpreter": {
    "hash": "60f9acc42e2210a3d5e59c0fe90691edcba9ff67f38252f103e2cb12126a2143"
   }
  }
 },
 "nbformat": 4,
 "nbformat_minor": 4
}
