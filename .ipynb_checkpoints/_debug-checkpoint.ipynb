{
 "cells": [
  {
   "cell_type": "code",
   "execution_count": 1,
   "metadata": {},
   "outputs": [],
   "source": [
    "# This is only needed for debugging purposes. New containers are created without the module installed.\n",
    "# The ModuleNotFoundError is raised when the module is not installed. So this installs it.\n",
    "def install_dbo():\n",
    "    import glob\n",
    "    import os\n",
    "    import pip\n",
    "    list_of_files = glob.glob('/home/jovyan/work/DbObjectCreator/dist/*.tar.gz')\n",
    "    latest_file = max(list_of_files, key=os.path.getctime)\n",
    "    os.chdir('/home/jovyan/work/DbObjectCreator/dist/')\n",
    "    pip.main(['install', latest_file])\n",
    "    # os.system(f'pip install {latest_file}')\n",
    "    from dbobjectcreator import DbObject"
   ]
  },
  {
   "cell_type": "code",
   "execution_count": 2,
   "metadata": {},
   "outputs": [],
   "source": [
    "package = 'dbobjectcreator'\n",
    "try:\n",
    "    __import__(package)\n",
    "except ImportError:\n",
    "    install_dbo()\n",
    "    __import__(package)"
   ]
  },
  {
   "cell_type": "code",
   "execution_count": 31,
   "metadata": {},
   "outputs": [],
   "source": [
    "import os, sys\n",
    "DOC_DEV_PATH = os.path.dirname(os.path.abspath('..'))\n",
    "if DOC_DEV_PATH not in sys.path:\n",
    "    sys.path.append(DOC_DEV_PATH)\n",
    "    from DbObjectCreator import DbObject\n",
    "else:\n",
    "    from DbObjectCreator import DbObject"
   ]
  },
  {
   "cell_type": "code",
   "execution_count": 19,
   "metadata": {},
   "outputs": [],
   "source": [
    "os.chdir('/home/jovyan/work/DbObjectCreator/')\n",
    "import DbObjectCreator as dbo"
   ]
  },
  {
   "cell_type": "code",
   "execution_count": 22,
   "metadata": {
    "jupyter": {
     "source_hidden": true
    },
    "tags": []
   },
   "outputs": [],
   "source": [
    "def test_mysql_connection() -> dict:\n",
    "    dh_mysql = dbo.DbObject(dbtype=1,\n",
    "        db_host='host.docker.internal',\n",
    "        db_port=3307,\n",
    "        db_user='root',\n",
    "        db_pass='DataHubSandbox123',\n",
    "        db_name='datahub',\n",
    "    )\n",
    "\n",
    "    dh_mysql.initialize_sa_session()\n",
    "    dh_mysql.initialize_engine()\n",
    "\n",
    "    tables = dh_mysql.get_available_table_names()\n",
    "    print(tables)\n",
    "    assert tables is not None"
   ]
  },
  {
   "cell_type": "code",
   "execution_count": 12,
   "metadata": {},
   "outputs": [],
   "source": [
    "def test_postgres_connection() -> dict:\n",
    "    dh_postgres = DbObject(dbtype=2,\n",
    "        db_host='host.docker.internal',\n",
    "        db_port=5432, \n",
    "        db_user='datahub', \n",
    "        db_pass='DataHubSandbox123', \n",
    "        db_name='datahub',\n",
    "        schema='public',\n",
    "    )\n",
    "\n",
    "    dh_postgres.initialize_sa_session()\n",
    "    dh_postgres.initialize_engine()\n",
    "\n",
    "    tables_copy = dh_tables.copy()\n",
    "\n",
    "    for table in tables_copy:\n",
    "        tables_copy[table] = [col for col in dh_postgres.reflect_database_table(table).columns]\n",
    "    \n",
    "    return tables_copy"
   ]
  },
  {
   "cell_type": "code",
   "execution_count": 13,
   "metadata": {
    "jupyter": {
     "source_hidden": true
    },
    "tags": []
   },
   "outputs": [],
   "source": [
    "def test_mssql_connection() -> dict:\n",
    "    dh_mysql = DbObject(dbtype=3,\n",
    "        db_host='host.docker.internal',\n",
    "        db_port=3307,\n",
    "        db_user='root',\n",
    "        db_pass='DataHubSandbox123',\n",
    "        db_name='datahub',\n",
    "    )\n",
    "\n",
    "    dh_mysql.initialize_sa_session()\n",
    "    dh_mysql.initialize_engine()\n",
    "\n",
    "    for table in dh_tables:\n",
    "        dh_tables[table] = [col for col in dh_mysql.reflect_database_table(table).columns]\n",
    "\n",
    "    return dh_tables"
   ]
  },
  {
   "cell_type": "code",
   "execution_count": null,
   "metadata": {},
   "outputs": [
    {
     "ename": "",
     "evalue": "",
     "output_type": "error",
     "traceback": [
      "\u001b[1;31mFailed to connect to the remote Jupyter Server 'http://127.0.0.1:8888/'. Verify the server is running and reachable. (request to http://127.0.0.1:8888/api/kernels?1656781332287 failed, reason: socket hang up)."
     ]
    }
   ],
   "source": [
    "test_mysql_connection()"
   ]
  },
  {
   "cell_type": "code",
   "execution_count": null,
   "metadata": {},
   "outputs": [
    {
     "ename": "",
     "evalue": "",
     "output_type": "error",
     "traceback": [
      "\u001b[1;31mFailed to connect to the remote Jupyter Server 'http://127.0.0.1:8888/'. Verify the server is running and reachable. (request to http://127.0.0.1:8888/api/kernels?1656782024619 failed, reason: socket hang up)."
     ]
    }
   ],
   "source": [
    "import dbobjectcreator as dbo\n",
    "dbo.__version__()"
   ]
  },
  {
   "cell_type": "code",
   "execution_count": null,
   "metadata": {},
   "outputs": [],
   "source": []
  }
 ],
 "metadata": {
  "kernelspec": {
   "display_name": "Python 3 (ipykernel)",
   "language": "python",
   "name": "python3"
  },
  "vscode": {
   "interpreter": {
    "hash": "a9bd15e937a7d83523683603aa5d4b07dbdd1a5cef4effb39271c0be3b7e68f5"
   }
  }
 },
 "nbformat": 4,
 "nbformat_minor": 4
}
